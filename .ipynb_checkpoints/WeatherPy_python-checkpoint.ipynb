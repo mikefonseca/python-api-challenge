{
 "cells": [
  {
   "cell_type": "markdown",
   "metadata": {},
   "source": [
    "# WeatherPy\n"
   ]
  },
  {
   "cell_type": "markdown",
   "metadata": {
    "collapsed": true
   },
   "source": [
    "# Analysis:\n",
    "    - The temperature charts shows the relationship between the latitude and the degree of temperature\n",
    "    which is inversely related.\n",
    "    - The humidity is high as the latitude increases in its axis,it is necessary to understand vapour pressure and in particular the gaseous nature of water vapour. \n",
    "    -The latitude and Cloudness shows that vapour also affects the weather because, as indicated below, it condenses into clouds and falls as rain or other forms of precipitation. \n",
    "    - The lower the speed of wind in the higher latitude the more concentration of of water vapour inin the atmosphere.The basic relationship between atmospheric pressure and horizontal wind is revealed by disregarding friction and any changes in wind direction and speed."
   ]
  },
  {
   "cell_type": "code",
   "execution_count": 1,
   "metadata": {},
   "outputs": [],
   "source": [
    "# Dependencies\n",
    "import random\n",
    "import requests as req\n",
    "\n",
    "import pandas as pd\n",
    "import numpy as np\n",
    "\n",
    "import matplotlib.pyplot as plt\n",
    "\n",
    "from citipy import citipy\n",
    "\n",
    "import openweathermapy as owm\n",
    "\n",
    "#To get the current date\n",
    "import datetime\n",
    "now = datetime.datetime.now()"
   ]
  },
  {
   "cell_type": "markdown",
   "metadata": {},
   "source": [
    "Generate Cities List:\n"
   ]
  },
  {
   "cell_type": "code",
   "execution_count": 2,
   "metadata": {},
   "outputs": [],
   "source": [
    "# Create a settings object with your API key and preferred units\n",
    "api_key = \"2092f20a9cc5d2c19008fc62765c923e\"\n",
    "# Setting the units to imperial to get Fahrenheit reading\n",
    "settings = {\"units\": \"imperial\", \"appid\": api_key}"
   ]
  },
  {
   "cell_type": "markdown",
   "metadata": {},
   "source": [
    "Perform API Calls:\n"
   ]
  },
  {
   "cell_type": "code",
   "execution_count": 3,
   "metadata": {},
   "outputs": [
    {
     "ename": "TypeError",
     "evalue": "_get_value() missing 1 required positional argument: 'col'",
     "output_type": "error",
     "traceback": [
      "\u001b[1;31m---------------------------------------------------------------------------\u001b[0m",
      "\u001b[1;31mTypeError\u001b[0m                                 Traceback (most recent call last)",
      "\u001b[1;32m<ipython-input-3-71139d05faab>\u001b[0m in \u001b[0;36m<module>\u001b[1;34m\u001b[0m\n\u001b[0;32m     17\u001b[0m \u001b[1;32mfor\u001b[0m \u001b[0mindex\u001b[0m\u001b[1;33m,\u001b[0m\u001b[0mrow\u001b[0m \u001b[1;32min\u001b[0m \u001b[0mcities_df\u001b[0m\u001b[1;33m.\u001b[0m\u001b[0miterrows\u001b[0m\u001b[1;33m(\u001b[0m\u001b[1;33m)\u001b[0m\u001b[1;33m:\u001b[0m\u001b[1;33m\u001b[0m\u001b[1;33m\u001b[0m\u001b[0m\n\u001b[0;32m     18\u001b[0m     \u001b[0mcity\u001b[0m\u001b[1;33m=\u001b[0m\u001b[0mcitipy\u001b[0m\u001b[1;33m.\u001b[0m\u001b[0mnearest_city\u001b[0m\u001b[1;33m(\u001b[0m\u001b[0mrow\u001b[0m\u001b[1;33m[\u001b[0m\u001b[1;34m\"Latitude\"\u001b[0m\u001b[1;33m]\u001b[0m\u001b[1;33m,\u001b[0m \u001b[0mrow\u001b[0m\u001b[1;33m[\u001b[0m\u001b[1;34m\"Longitude\"\u001b[0m\u001b[1;33m]\u001b[0m\u001b[1;33m)\u001b[0m\u001b[1;33m\u001b[0m\u001b[1;33m\u001b[0m\u001b[0m\n\u001b[1;32m---> 19\u001b[1;33m     \u001b[0mcities_df\u001b[0m\u001b[1;33m.\u001b[0m\u001b[0mat\u001b[0m\u001b[1;33m[\u001b[0m\u001b[1;36m1\u001b[0m\u001b[1;33m]\u001b[0m\u001b[1;33m(\u001b[0m\u001b[0mindex\u001b[0m\u001b[1;33m,\u001b[0m \u001b[1;34m\"City\"\u001b[0m\u001b[1;33m,\u001b[0m \u001b[0mcity\u001b[0m\u001b[1;33m.\u001b[0m\u001b[0mcity_name\u001b[0m\u001b[1;33m)\u001b[0m\u001b[1;33m\u001b[0m\u001b[1;33m\u001b[0m\u001b[0m\n\u001b[0m\u001b[0;32m     20\u001b[0m     \u001b[0mcities_df\u001b[0m\u001b[1;33m.\u001b[0m\u001b[0mat\u001b[0m\u001b[1;33m[\u001b[0m\u001b[1;36m1\u001b[0m\u001b[1;33m]\u001b[0m\u001b[1;33m(\u001b[0m\u001b[0mindex\u001b[0m\u001b[1;33m,\u001b[0m \u001b[1;34m\"Country\"\u001b[0m\u001b[1;33m,\u001b[0m \u001b[0mcity\u001b[0m\u001b[1;33m.\u001b[0m\u001b[0mcountry_code\u001b[0m\u001b[1;33m)\u001b[0m\u001b[1;33m\u001b[0m\u001b[1;33m\u001b[0m\u001b[0m\n\u001b[0;32m     21\u001b[0m \u001b[1;33m\u001b[0m\u001b[0m\n",
      "\u001b[1;32m~\\Anaconda3\\lib\\site-packages\\pandas\\core\\indexing.py\u001b[0m in \u001b[0;36m__getitem__\u001b[1;34m(self, key)\u001b[0m\n\u001b[0;32m   2198\u001b[0m \u001b[1;33m\u001b[0m\u001b[0m\n\u001b[0;32m   2199\u001b[0m         \u001b[0mkey\u001b[0m \u001b[1;33m=\u001b[0m \u001b[0mself\u001b[0m\u001b[1;33m.\u001b[0m\u001b[0m_convert_key\u001b[0m\u001b[1;33m(\u001b[0m\u001b[0mkey\u001b[0m\u001b[1;33m)\u001b[0m\u001b[1;33m\u001b[0m\u001b[1;33m\u001b[0m\u001b[0m\n\u001b[1;32m-> 2200\u001b[1;33m         \u001b[1;32mreturn\u001b[0m \u001b[0mself\u001b[0m\u001b[1;33m.\u001b[0m\u001b[0mobj\u001b[0m\u001b[1;33m.\u001b[0m\u001b[0m_get_value\u001b[0m\u001b[1;33m(\u001b[0m\u001b[1;33m*\u001b[0m\u001b[0mkey\u001b[0m\u001b[1;33m,\u001b[0m \u001b[0mtakeable\u001b[0m\u001b[1;33m=\u001b[0m\u001b[0mself\u001b[0m\u001b[1;33m.\u001b[0m\u001b[0m_takeable\u001b[0m\u001b[1;33m)\u001b[0m\u001b[1;33m\u001b[0m\u001b[1;33m\u001b[0m\u001b[0m\n\u001b[0m\u001b[0;32m   2201\u001b[0m \u001b[1;33m\u001b[0m\u001b[0m\n\u001b[0;32m   2202\u001b[0m     \u001b[1;32mdef\u001b[0m \u001b[0m__setitem__\u001b[0m\u001b[1;33m(\u001b[0m\u001b[0mself\u001b[0m\u001b[1;33m,\u001b[0m \u001b[0mkey\u001b[0m\u001b[1;33m,\u001b[0m \u001b[0mvalue\u001b[0m\u001b[1;33m)\u001b[0m\u001b[1;33m:\u001b[0m\u001b[1;33m\u001b[0m\u001b[1;33m\u001b[0m\u001b[0m\n",
      "\u001b[1;31mTypeError\u001b[0m: _get_value() missing 1 required positional argument: 'col'"
     ]
    }
   ],
   "source": [
    "# Latitude ranges from -90 to 90 and Longitude ranges from -180 to 180\n",
    "lat = list(np.arange(-90,90.01,0.01))\n",
    "long = list(np.arange(-180,180.01,0.01))\n",
    "\n",
    "# Setting Latitude and Longitude to ramdomly pick co-ordinates.\n",
    "lat_samples=random.sample(lat,2500)\n",
    "long_samples=random.sample(long,2500)\n",
    "\n",
    "# Creating a dataframe from the randomly sample Latitude and Longitude\n",
    "cities_df=pd.DataFrame({\"Latitude\":lat_samples,\"Longitude\":long_samples})\n",
    "\n",
    "#Creating new columns City and Country for storing the details corresponding to the co-ordinates\n",
    "cities_df[\"City\"]=\"\"\n",
    "cities_df[\"Country\"]=\"\"\n",
    "\n",
    "# Finding the city and the country code corresponding to the Latitude and Longitude\n",
    "for index,row in cities_df.iterrows():\n",
    "    city=citipy.nearest_city(row[\"Latitude\"], row[\"Longitude\"])\n",
    "    cities_df.at[1](index, \"City\", city.city_name)\n",
    "    cities_df.at[1](index, \"Country\", city.country_code)\n",
    "\n",
    "# Dropping the Latitude and Longitude as they are values of the nearest city and not the excat co-ordinates of the city\n",
    "cities_df=cities_df.drop(cities_df.columns[[0, 1]], axis=1)\n",
    "\n",
    "# Deleting duplicate values from the list of cities and keeping only the first\n",
    "cities_df=cities_df.drop_duplicates(['City'], keep='first')\n",
    "\n",
    "# Randomly sampling a list of 800 cities \n",
    "cities_df=cities_df.sample(n=800)\n",
    "\n",
    "# Resetting the index of the cities list\n",
    "cities_df=cities_df.reset_index(drop=True)\n",
    "\n",
    "cities_df.head()"
   ]
  },
  {
   "cell_type": "code",
   "execution_count": null,
   "metadata": {},
   "outputs": [],
   "source": [
    "# Get data for each city in cities_df\n",
    "weather_data = []\n",
    "\n",
    "url=\"https://api.openweathermap.org/data/2.5/weather?appid=\" + api_key + \"&units=imperial&q=\"\n",
    "\n",
    "print(\"\\nStats Data Minning\\n-----------------------------\")\n",
    "#Get the response from OpenWeatherMapY and storing the response into weather_data if response is found\n",
    "for index,row in cities_df.iterrows():  \n",
    "    print(\"\\nProcessing record %s|%s,%s\"%((index+1),row[\"City\"],row[\"Country\"]))\n",
    "    print(\"\\n\"+url+\"%s,%s\"%(row[\"City\"].replace(\" \",\"+\"),row[\"Country\"]))\n",
    "    try:\n",
    "        response = owm.get_current(\"%s,%s\"%(row[\"City\"],row[\"Country\"]), **settings)\n",
    "        # Appending the response to the weather_Data\n",
    "        weather_data.append(response)\n",
    "    except:\n",
    "        print(\"\\n\\033[1;31mCity not found. Skipping...\\033[1;30m\")\n",
    "\n",
    "print(\"\\n-----------------------------\\nData Minning Completed\\n-----------------------------\")"
   ]
  },
  {
   "cell_type": "code",
   "execution_count": null,
   "metadata": {},
   "outputs": [],
   "source": [
    "# Create an \"extracts\" object to get the various parameter required to form the weather data table\n",
    "summary = [\"name\",\"sys.country\",\"dt\",\"coord.lat\", \"coord.lon\",\"main.temp_max\",\"main.humidity\",\"wind.speed\",\"clouds.all\"]\n",
    "\n",
    "# Create a Pandas DataFrame with the results\n",
    "data = [response(*summary) for response in weather_data]\n",
    "column_names = [\"City\",\"Country\",\"Date\",\"Latitude\", \"Longitude\",\"Temperature\",\"Humidity\",\"Wind speed\",\"Cloudliness\"]\n",
    "weather_data = pd.DataFrame(data, columns=column_names)\n",
    "\n",
    "weather_data.head()"
   ]
  },
  {
   "cell_type": "code",
   "execution_count": null,
   "metadata": {},
   "outputs": [],
   "source": [
    "# Save the result to a csv file\n",
    "weather_data.to_csv(\"Output/Weather_Data.csv\")\n",
    "# Count of the data in the dataframe\n",
    "weather_data.count()"
   ]
  },
  {
   "cell_type": "code",
   "execution_count": null,
   "metadata": {},
   "outputs": [],
   "source": [
    "# Creating a function to set the properties of the graph\n",
    "def plotprops(xlabelname,ylabelname,xlimits):\n",
    "    plt.xlabel(xlabelname)\n",
    "    plt.ylabel(ylabelname)\n",
    "    plt.xlim(xlimits)\n",
    "    plt.title(\"%s vs %s (%s/%s/%s)\"%(xlabelname,ylabelname,now.month,now.day,now.year),fontsize=14)\n",
    "    plt.grid(True)"
   ]
  },
  {
   "cell_type": "markdown",
   "metadata": {},
   "source": [
    "Latitude vs Temperature Plot\n"
   ]
  },
  {
   "cell_type": "code",
   "execution_count": null,
   "metadata": {},
   "outputs": [],
   "source": [
    "# Latitude vs Temperature(F)\n",
    "plt.scatter(x=weather_data[\"Latitude\"],y=weather_data[\"Temperature\"],facecolors=\"blue\",edgecolors=\"black\")\n",
    "plotprops(\"Latitude\",\"Max. Temperature(°F)\",[-90,90])\n",
    "plt.savefig(\"Output/City Latitude vs Temperature.jpeg\")\n",
    "plt.show()"
   ]
  },
  {
   "cell_type": "markdown",
   "metadata": {},
   "source": [
    "Latitude vs. Humidity Plot"
   ]
  },
  {
   "cell_type": "code",
   "execution_count": null,
   "metadata": {},
   "outputs": [],
   "source": [
    "# Latitude vs Humidity\n",
    "\n",
    "plt.scatter(x=weather_data[\"Latitude\"],y=weather_data[\"Humidity\"],facecolors=\"blue\",edgecolors=\"black\")\n",
    "plotprops(\"Latitude\",\"Humidity(%)\",[-90,90])\n",
    "plt.savefig(\"Output/City Latitude vs Humidity.jpeg\")\n",
    "plt.show()"
   ]
  },
  {
   "cell_type": "markdown",
   "metadata": {},
   "source": [
    "Latitude vs. Cloudiness Plot"
   ]
  },
  {
   "cell_type": "code",
   "execution_count": null,
   "metadata": {},
   "outputs": [],
   "source": [
    "# Latitude vs Cloudliness  \n",
    "\n",
    "plt.scatter(x=weather_data[\"Latitude\"],y=weather_data[\"Cloudliness\"],facecolors=\"blue\",edgecolors=\"black\")\n",
    "plotprops(\"Latitude\",\"Cloudiness(%)\",[-90,90])\n",
    "plt.savefig(\"Output/City Latitude vs Cloudiness.jpeg\")\n",
    "plt.show()"
   ]
  },
  {
   "cell_type": "markdown",
   "metadata": {},
   "source": [
    "Latitude vs Wind Speed\n"
   ]
  },
  {
   "cell_type": "code",
   "execution_count": null,
   "metadata": {},
   "outputs": [],
   "source": [
    "# Latitude vs Wind Speed  \n",
    "\n",
    "plt.scatter(x=weather_data[\"Latitude\"],y=weather_data[\"Wind speed\"],facecolors=\"blue\",edgecolors=\"black\")\n",
    "plotprops(\"Latitude\",\"Wind speed(mph)\",[-90,90])\n",
    "plt.savefig(\"Output/City Latitude vs Wind speed.jpeg\")\n",
    "plt.show()"
   ]
  }
 ],
 "metadata": {
  "kernelspec": {
   "display_name": "Python 3",
   "language": "python",
   "name": "python3"
  },
  "language_info": {
   "codemirror_mode": {
    "name": "ipython",
    "version": 3
   },
   "file_extension": ".py",
   "mimetype": "text/x-python",
   "name": "python",
   "nbconvert_exporter": "python",
   "pygments_lexer": "ipython3",
   "version": "3.7.4"
  }
 },
 "nbformat": 4,
 "nbformat_minor": 2
}
